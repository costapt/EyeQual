{
 "cells": [
  {
   "cell_type": "code",
   "execution_count": null,
   "metadata": {
    "collapsed": false
   },
   "outputs": [],
   "source": [
    "import time\n",
    "import train\n",
    "import models\n",
    "\n",
    "import numpy as np\n",
    "\n",
    "from PIL import Image\n",
    "from IPython.html.widgets import interact\n",
    "from sklearn.metrics import roc_auc_score\n",
    "from keras.callbacks import ModelCheckpoint, EarlyStopping\n",
    "\n",
    "import matplotlib.pyplot as plt\n",
    "from eval.eval import get_predictions, get_auc_score\n",
    "from utils.visualization import prepare_img_to_plot, parula_map\n",
    "from utils.visualization import get_gaussian_quality_map as get_quality_map\n",
    "%matplotlib inline\n",
    "\n",
    "%load_ext autoreload\n",
    "%autoreload 2"
   ]
  },
  {
   "cell_type": "code",
   "execution_count": null,
   "metadata": {
    "collapsed": true
   },
   "outputs": [],
   "source": [
    "\"\"\"\n",
    "Data parameters' definition\n",
    "\"\"\"\n",
    "batch_size = 8\n",
    "load_data = False\n",
    "weak_dir = 'D:/work/datasets/quality/quality'\n",
    "epochs = 1\n",
    "\n",
    "\"\"\"\n",
    "Dataset augmentation's parameters\n",
    "\"\"\"\n",
    "aug_params = {'horizontal_flip': True,\n",
    "              'vertical_flip': True,\n",
    "              'width_shift_range': 0.05, \n",
    "              'height_shift_range': 0.05, \n",
    "              'rotation_range': 360, \n",
    "              'zoom_range': 0.02}\n",
    "\n",
    "\"\"\"\n",
    "Model parameter's definition\n",
    "\"\"\"\n",
    "nf = 64\n",
    "n_blocks = 4\n",
    "input_size = 512\n",
    "pooling_wreg = 1e-2\n",
    "pooling_breg = 1e-3\n",
    "lr = 2e-4\n",
    "\n",
    "\"\"\"\n",
    "Callbacks' definition\n",
    "\"\"\"\n",
    "experiment_path = \"experiments/GAP.hdf5\"\n",
    "patience = 0\n",
    "checkpointer = ModelCheckpoint(filepath=experiment_path, verbose=1, \n",
    "                               save_best_only=True, save_weights_only=False)\n",
    "callbacks = [checkpointer]\n",
    "if patience > 0:\n",
    "    early = EarlyStopping(patience=patience, verbose=1)\n",
    "    callbacks.append(early)"
   ]
  },
  {
   "cell_type": "code",
   "execution_count": null,
   "metadata": {
    "collapsed": false
   },
   "outputs": [],
   "source": [
    "train_it, val_it, test_it = train.get_data_iterators(batch_size=batch_size, data_dir=weak_dir, \n",
    "                                                     target_size=(512, 512), samplewise_center=False, \n",
    "                                                     samplewise_std_normalization=False, rescale=1/255., \n",
    "                                                     fill_mode='constant', load_train_data=load_data, \n",
    "                                                     color_mode='rgb', **aug_params)"
   ]
  },
  {
   "cell_type": "code",
   "execution_count": null,
   "metadata": {
    "collapsed": false
   },
   "outputs": [],
   "source": [
    "eyequal, heatmap = models.quality_assessment(nf, input_size=input_size, n_blocks=n_blocks, lr=lr, \n",
    "                                             pooling_wreg=pooling_wreg, pooling_breg=pooling_breg)"
   ]
  },
  {
   "cell_type": "code",
   "execution_count": null,
   "metadata": {
    "collapsed": false,
    "scrolled": true
   },
   "outputs": [],
   "source": [
    "eyequal.fit_generator(train_it, train_it.n, epochs, validation_data=val_it, nb_val_samples=val_it.n, \n",
    "                      verbose=2, callbacks=callbacks)"
   ]
  },
  {
   "cell_type": "code",
   "execution_count": null,
   "metadata": {
    "collapsed": true
   },
   "outputs": [],
   "source": [
    "eyequal.load_weights(experiment_path)"
   ]
  },
  {
   "cell_type": "code",
   "execution_count": null,
   "metadata": {
    "collapsed": false
   },
   "outputs": [],
   "source": [
    "x, y = next(val_it)\n",
    "\n",
    "heat_pred = heatmap.predict(x)\n",
    "\n",
    "def plot_figs(idx=0):\n",
    "    print y\n",
    "    print 'Pred = {0}; GT = {1}'.format(eyequal.predict(x)[idx], y[idx])\n",
    "    \n",
    "    heat_pred_img = heat_pred[idx, 0]\n",
    "    x_plot = np.transpose(x[idx], (1, 2, 0))\n",
    "    \n",
    "    plt.figure(figsize=(16, 21))\n",
    "    \n",
    "    plt.subplot(1, 2, 1)\n",
    "    plt.title('Image')\n",
    "    plt.imshow(x_plot)\n",
    "    plt.axis('off')\n",
    "\n",
    "    plt.subplot(1, 2, 2)\n",
    "    plt.title('Quality Map')\n",
    "    plt.imshow(x_plot)\n",
    "    im = get_quality_map(heat_pred_img, n_blocks=n_blocks)\n",
    "    plt.imshow(im, alpha=0.5, vmin=0, vmax=1, cmap=parula_map)\n",
    "    plt.axis('off')\n",
    "    \n",
    "    plt.show()\n",
    "    \n",
    "interact(plot_figs, idx=range(batch_size));"
   ]
  },
  {
   "cell_type": "code",
   "execution_count": null,
   "metadata": {
    "collapsed": false
   },
   "outputs": [],
   "source": [
    "w, b = eyequal.get_layer('pool').get_weights()\n",
    "out_size = models.get_out_size(input_size, n_blocks)\n",
    "w = w.reshape((out_size, out_size))\n",
    "\n",
    "plt.imshow(w)\n",
    "plt.show()"
   ]
  },
  {
   "cell_type": "code",
   "execution_count": null,
   "metadata": {
    "collapsed": false
   },
   "outputs": [],
   "source": [
    "print 'Train AUC = {0}'.format(get_auc_score(eyequal, train_it, train_it.n))\n",
    "print 'Validation AUC = {0}'.format(get_auc_score(eyequal, val_it, val_it.n))\n",
    "print 'Test AUC = {0}'.format(get_auc_score(eyequal, test_it, test_it.n))"
   ]
  },
  {
   "cell_type": "code",
   "execution_count": null,
   "metadata": {
    "collapsed": true
   },
   "outputs": [],
   "source": []
  }
 ],
 "metadata": {
  "kernelspec": {
   "display_name": "Python 2",
   "language": "python",
   "name": "python2"
  },
  "language_info": {
   "codemirror_mode": {
    "name": "ipython",
    "version": 2
   },
   "file_extension": ".py",
   "mimetype": "text/x-python",
   "name": "python",
   "nbconvert_exporter": "python",
   "pygments_lexer": "ipython2",
   "version": "2.7.13"
  }
 },
 "nbformat": 4,
 "nbformat_minor": 2
}
